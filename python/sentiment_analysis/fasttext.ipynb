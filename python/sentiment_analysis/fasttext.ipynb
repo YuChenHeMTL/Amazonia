{
  "cells": [
    {
      "cell_type": "code",
      "execution_count": 1,
      "metadata": {
        "colab": {
          "base_uri": "https://localhost:8080/"
        },
        "id": "YYDmUtKMwme0",
        "outputId": "1fd9bccc-5ab2-4b87-c595-17f15003ff0a"
      },
      "outputs": [
        {
          "name": "stdout",
          "output_type": "stream",
          "text": [
            "['archive.zip', 'fasttext.ipynb', 'model.bin', 'sentiment.py', 'test.ft.txt.bz2', 'train.ft.txt.bz2', '__init__.py', '__pycache__']\n"
          ]
        }
      ],
      "source": [
        "import numpy as np # linear algebra\n",
        "import pandas as pd # data processing, CSV file I/O (e.g. pd.read_csv)\n",
        "import fasttext\n",
        "import bz2\n",
        "import csv\n",
        "from sklearn.metrics import roc_auc_score\n",
        "import os\n",
        "print(os.listdir(\".\"))"
      ]
    },
    {
      "cell_type": "code",
      "execution_count": 2,
      "metadata": {
        "colab": {
          "base_uri": "https://localhost:8080/"
        },
        "id": "SAgBY2m24K6L",
        "outputId": "f78b3211-358e-4379-8e98-cd7bc208c067"
      },
      "outputs": [
        {
          "name": "stdout",
          "output_type": "stream",
          "text": [
            "3600000\n"
          ]
        }
      ],
      "source": [
        "data = bz2.BZ2File(\"./train.ft.txt.bz2\")\n",
        "data = data.readlines()\n",
        "data = [x.decode('utf-8') for x in data]\n",
        "print(len(data))"
      ]
    },
    {
      "cell_type": "code",
      "execution_count": 3,
      "metadata": {
        "colab": {
          "base_uri": "https://localhost:8080/"
        },
        "id": "Ajq-5SWS5OkM",
        "outputId": "c0852bba-f154-4f5d-d639-e0a71cd31f6d"
      },
      "outputs": [
        {
          "data": {
            "text/plain": [
              "[\"__label__2 The best soundtrack ever to anything.: I'm reading a lot of reviews saying that this is the best 'game soundtrack' and I figured that I'd write a review to disagree a bit. This in my opinino is Yasunori Mitsuda's ultimate masterpiece. The music is timeless and I'm been listening to it for years now and its beauty simply refuses to fade.The price tag on this is pretty staggering I must say, but if you are going to buy any cd for this much money, this is the only one that I feel would be worth every penny.\\n\",\n",
              " '__label__2 Amazing!: This soundtrack is my favorite music of all time, hands down. The intense sadness of \"Prisoners of Fate\" (which means all the more if you\\'ve played the game) and the hope in \"A Distant Promise\" and \"Girl who Stole the Star\" have been an important inspiration to me personally throughout my teen years. The higher energy tracks like \"Chrono Cross ~ Time\\'s Scar~\", \"Time of the Dreamwatch\", and \"Chronomantique\" (indefinably remeniscent of Chrono Trigger) are all absolutely superb as well.This soundtrack is amazing music, probably the best of this composer\\'s work (I haven\\'t heard the Xenogears soundtrack, so I can\\'t say for sure), and even if you\\'ve never played the game, it would be worth twice the price to buy it.I wish I could give it 6 stars.\\n',\n",
              " \"__label__2 Excellent Soundtrack: I truly like this soundtrack and I enjoy video game music. I have played this game and most of the music on here I enjoy and it's truly relaxing and peaceful.On disk one. my favorites are Scars Of Time, Between Life and Death, Forest Of Illusion, Fortress of Ancient Dragons, Lost Fragment, and Drowned Valley.Disk Two: The Draggons, Galdorb - Home, Chronomantique, Prisoners of Fate, Gale, and my girlfriend likes ZelbessDisk Three: The best of the three. Garden Of God, Chronopolis, Fates, Jellyfish sea, Burning Orphange, Dragon's Prayer, Tower Of Stars, Dragon God, and Radical Dreamers - Unstealable Jewel.Overall, this is a excellent soundtrack and should be brought by those that like video game music.Xander Cross\\n\",\n",
              " \"__label__2 Remember, Pull Your Jaw Off The Floor After Hearing it: If you've played the game, you know how divine the music is! Every single song tells a story of the game, it's that good! The greatest songs are without a doubt, Chrono Cross: Time's Scar, Magical Dreamers: The Wind, The Stars, and the Sea and Radical Dreamers: Unstolen Jewel. (Translation varies) This music is perfect if you ask me, the best it can be. Yasunori Mitsuda just poured his heart on and wrote it down on paper.\\n\"]"
            ]
          },
          "execution_count": 3,
          "metadata": {},
          "output_type": "execute_result"
        }
      ],
      "source": [
        "data[1:5]"
      ]
    },
    {
      "cell_type": "code",
      "execution_count": 7,
      "metadata": {
        "colab": {
          "base_uri": "https://localhost:8080/"
        },
        "id": "6GuqLrJG5QSD",
        "outputId": "dd5a2e45-3eec-4571-bdfb-f319350c0757"
      },
      "outputs": [
        {
          "name": "stdout",
          "output_type": "stream",
          "text": [
            "['__label__1', '__label__2'] are the labels or targets the model is predicting\n"
          ]
        }
      ],
      "source": [
        "data = pd.DataFrame(data)\n",
        "data.to_csv(\"train.txt\", index=False, sep=' ', header=False, quoting=csv.QUOTE_NONE, quotechar=\"\", escapechar=\" \")\n",
        "\n",
        "# Modelling\n",
        "# This routine takes about 5 to 10 minutes\n",
        "model = fasttext.train_supervised('train.txt',label_prefix='__label__', thread=4, epoch = 10)\n",
        "print(model.labels, 'are the labels or targets the model is predicting')"
      ]
    },
    {
      "cell_type": "code",
      "execution_count": 4,
      "metadata": {},
      "outputs": [
        {
          "name": "stderr",
          "output_type": "stream",
          "text": [
            "Warning : `load_model` does not return WordVectorModel or SupervisedModel any more, but a `FastText` object which is very similar.\n"
          ]
        },
        {
          "name": "stdout",
          "output_type": "stream",
          "text": [
            "['__label__1', '__label__2'] are the labels or targets the model is predicting\n"
          ]
        }
      ],
      "source": [
        "data = pd.DataFrame(data)\n",
        "data.to_csv(\"train.txt\", index=False, sep=' ', header=False, quoting=csv.QUOTE_NONE, quotechar=\"\", escapechar=\" \")\n",
        "\n",
        "model = fasttext.load_model('model.bin')\n",
        "print(model.labels, 'are the labels or targets the model is predicting')"
      ]
    },
    {
      "cell_type": "code",
      "execution_count": 5,
      "metadata": {
        "colab": {
          "base_uri": "https://localhost:8080/"
        },
        "id": "O3zabiqT_Lb1",
        "outputId": "c3f14b06-579b-454c-bae4-cf61a8fc4199"
      },
      "outputs": [
        {
          "name": "stdout",
          "output_type": "stream",
          "text": [
            "400000 number of records in the test set\n",
            "['__label__2'] is the predicted label\n",
            "['__label__2'] is the probability score\n"
          ]
        }
      ],
      "source": [
        "test = bz2.BZ2File(\"./test.ft.txt.bz2\")\n",
        "test = test.readlines()\n",
        "test = [x.decode('utf-8') for x in test]\n",
        "print(len(test), 'number of records in the test set')\n",
        "\n",
        "# To run the predict function, we need to remove the __label__1 and __label__2 from the testset.\n",
        "new = [w.replace('__label__2 ', '') for w in test]\n",
        "new = [w.replace('__label__1 ', '') for w in new]\n",
        "new = [w.replace('\\n', '') for w in new]\n",
        "\n",
        "# Use the predict function\n",
        "pred = model.predict(new)\n",
        "\n",
        "# check the first record outputs\n",
        "print(pred[0][0], 'is the predicted label')\n",
        "print(pred[0][1], 'is the probability score')"
      ]
    },
    {
      "cell_type": "code",
      "execution_count": 8,
      "metadata": {
        "colab": {
          "base_uri": "https://localhost:8080/"
        },
        "id": "PO3nj7Fr_YZo",
        "outputId": "426112e0-63f2-4dd5-c24d-c7cb2f683236"
      },
      "outputs": [
        {
          "name": "stdout",
          "output_type": "stream",
          "text": [
            "AUC Score:  0.9173375000000001\n",
            "F1 Score:  0.9173951169059581\n",
            "Accuracy Score:  0.9173375\n"
          ]
        },
        {
          "ename": "TypeError",
          "evalue": "<fasttext.FastText._FastText object at 0x0000014FE3A3ED60> is not an estimator instance.",
          "output_type": "error",
          "traceback": [
            "\u001b[1;31m---------------------------------------------------------------------------\u001b[0m",
            "\u001b[1;31mTypeError\u001b[0m                                 Traceback (most recent call last)",
            "\u001b[1;32md:\\Users\\Kingslayer\\Documents\\Lighthouse Labs DS\\final-project\\Amazonia\\python\\sentiment_analysis\\fasttext.ipynb Cell 7\u001b[0m line \u001b[0;36m1\n\u001b[0;32m     <a href='vscode-notebook-cell:/d%3A/Users/Kingslayer/Documents/Lighthouse%20Labs%20DS/final-project/Amazonia/python/sentiment_analysis/fasttext.ipynb#W5sZmlsZQ%3D%3D?line=10'>11</a>\u001b[0m \u001b[39mprint\u001b[39m(\u001b[39m\"\u001b[39m\u001b[39mAccuracy Score: \u001b[39m\u001b[39m\"\u001b[39m, accuracy_score(labels, pred_labels))\n\u001b[0;32m     <a href='vscode-notebook-cell:/d%3A/Users/Kingslayer/Documents/Lighthouse%20Labs%20DS/final-project/Amazonia/python/sentiment_analysis/fasttext.ipynb#W5sZmlsZQ%3D%3D?line=12'>13</a>\u001b[0m \u001b[39m# precision, recall, _ = precision_recall_curve(labels, pred_labels)\u001b[39;00m\n\u001b[0;32m     <a href='vscode-notebook-cell:/d%3A/Users/Kingslayer/Documents/Lighthouse%20Labs%20DS/final-project/Amazonia/python/sentiment_analysis/fasttext.ipynb#W5sZmlsZQ%3D%3D?line=13'>14</a>\u001b[0m \u001b[39m# disp = PrecisionRecallDisplay(precision=precision, recall=recall)\u001b[39;00m\n\u001b[0;32m     <a href='vscode-notebook-cell:/d%3A/Users/Kingslayer/Documents/Lighthouse%20Labs%20DS/final-project/Amazonia/python/sentiment_analysis/fasttext.ipynb#W5sZmlsZQ%3D%3D?line=14'>15</a>\u001b[0m \u001b[39m# disp.plot()\u001b[39;00m\n\u001b[1;32m---> <a href='vscode-notebook-cell:/d%3A/Users/Kingslayer/Documents/Lighthouse%20Labs%20DS/final-project/Amazonia/python/sentiment_analysis/fasttext.ipynb#W5sZmlsZQ%3D%3D?line=16'>17</a>\u001b[0m display \u001b[39m=\u001b[39m PrecisionRecallDisplay\u001b[39m.\u001b[39;49mfrom_estimator(\n\u001b[0;32m     <a href='vscode-notebook-cell:/d%3A/Users/Kingslayer/Documents/Lighthouse%20Labs%20DS/final-project/Amazonia/python/sentiment_analysis/fasttext.ipynb#W5sZmlsZQ%3D%3D?line=17'>18</a>\u001b[0m     model, new, labels, name\u001b[39m=\u001b[39;49m\u001b[39m\"\u001b[39;49m\u001b[39mFastText\u001b[39;49m\u001b[39m\"\u001b[39;49m, plot_chance_level\u001b[39m=\u001b[39;49m\u001b[39mTrue\u001b[39;49;00m\n\u001b[0;32m     <a href='vscode-notebook-cell:/d%3A/Users/Kingslayer/Documents/Lighthouse%20Labs%20DS/final-project/Amazonia/python/sentiment_analysis/fasttext.ipynb#W5sZmlsZQ%3D%3D?line=18'>19</a>\u001b[0m )\n\u001b[0;32m     <a href='vscode-notebook-cell:/d%3A/Users/Kingslayer/Documents/Lighthouse%20Labs%20DS/final-project/Amazonia/python/sentiment_analysis/fasttext.ipynb#W5sZmlsZQ%3D%3D?line=19'>20</a>\u001b[0m _ \u001b[39m=\u001b[39m display\u001b[39m.\u001b[39max_\u001b[39m.\u001b[39mset_title(\u001b[39m\"\u001b[39m\u001b[39m2-class Precision-Recall curve\u001b[39m\u001b[39m\"\u001b[39m)\n",
            "File \u001b[1;32md:\\Users\\Kingslayer\\Documents\\Lighthouse Labs DS\\.venv\\lib\\site-packages\\sklearn\\metrics\\_plot\\precision_recall_curve.py:342\u001b[0m, in \u001b[0;36mPrecisionRecallDisplay.from_estimator\u001b[1;34m(cls, estimator, X, y, sample_weight, pos_label, drop_intermediate, response_method, name, ax, plot_chance_level, chance_level_kw, **kwargs)\u001b[0m\n\u001b[0;32m    229\u001b[0m \u001b[39m@classmethod\u001b[39m\n\u001b[0;32m    230\u001b[0m \u001b[39mdef\u001b[39;00m \u001b[39mfrom_estimator\u001b[39m(\n\u001b[0;32m    231\u001b[0m     \u001b[39mcls\u001b[39m,\n\u001b[1;32m   (...)\u001b[0m\n\u001b[0;32m    244\u001b[0m     \u001b[39m*\u001b[39m\u001b[39m*\u001b[39mkwargs,\n\u001b[0;32m    245\u001b[0m ):\n\u001b[0;32m    246\u001b[0m \u001b[39m    \u001b[39m\u001b[39m\"\"\"Plot precision-recall curve given an estimator and some data.\u001b[39;00m\n\u001b[0;32m    247\u001b[0m \n\u001b[0;32m    248\u001b[0m \u001b[39m    Parameters\u001b[39;00m\n\u001b[1;32m   (...)\u001b[0m\n\u001b[0;32m    340\u001b[0m \u001b[39m    >>> plt.show()\u001b[39;00m\n\u001b[0;32m    341\u001b[0m \u001b[39m    \"\"\"\u001b[39;00m\n\u001b[1;32m--> 342\u001b[0m     y_pred, pos_label, name \u001b[39m=\u001b[39m \u001b[39mcls\u001b[39;49m\u001b[39m.\u001b[39;49m_validate_and_get_response_values(\n\u001b[0;32m    343\u001b[0m         estimator,\n\u001b[0;32m    344\u001b[0m         X,\n\u001b[0;32m    345\u001b[0m         y,\n\u001b[0;32m    346\u001b[0m         response_method\u001b[39m=\u001b[39;49mresponse_method,\n\u001b[0;32m    347\u001b[0m         pos_label\u001b[39m=\u001b[39;49mpos_label,\n\u001b[0;32m    348\u001b[0m         name\u001b[39m=\u001b[39;49mname,\n\u001b[0;32m    349\u001b[0m     )\n\u001b[0;32m    351\u001b[0m     \u001b[39mreturn\u001b[39;00m \u001b[39mcls\u001b[39m\u001b[39m.\u001b[39mfrom_predictions(\n\u001b[0;32m    352\u001b[0m         y,\n\u001b[0;32m    353\u001b[0m         y_pred,\n\u001b[1;32m   (...)\u001b[0m\n\u001b[0;32m    361\u001b[0m         \u001b[39m*\u001b[39m\u001b[39m*\u001b[39mkwargs,\n\u001b[0;32m    362\u001b[0m     )\n",
            "File \u001b[1;32md:\\Users\\Kingslayer\\Documents\\Lighthouse Labs DS\\.venv\\lib\\site-packages\\sklearn\\utils\\_plotting.py:34\u001b[0m, in \u001b[0;36m_BinaryClassifierCurveDisplayMixin._validate_and_get_response_values\u001b[1;34m(cls, estimator, X, y, response_method, pos_label, name)\u001b[0m\n\u001b[0;32m     30\u001b[0m check_matplotlib_support(\u001b[39mf\u001b[39m\u001b[39m\"\u001b[39m\u001b[39m{\u001b[39;00m\u001b[39mcls\u001b[39m\u001b[39m.\u001b[39m\u001b[39m__name__\u001b[39m\u001b[39m}\u001b[39;00m\u001b[39m.from_estimator\u001b[39m\u001b[39m\"\u001b[39m)\n\u001b[0;32m     32\u001b[0m name \u001b[39m=\u001b[39m estimator\u001b[39m.\u001b[39m\u001b[39m__class__\u001b[39m\u001b[39m.\u001b[39m\u001b[39m__name__\u001b[39m \u001b[39mif\u001b[39;00m name \u001b[39mis\u001b[39;00m \u001b[39mNone\u001b[39;00m \u001b[39melse\u001b[39;00m name\n\u001b[1;32m---> 34\u001b[0m y_pred, pos_label \u001b[39m=\u001b[39m _get_response_values_binary(\n\u001b[0;32m     35\u001b[0m     estimator,\n\u001b[0;32m     36\u001b[0m     X,\n\u001b[0;32m     37\u001b[0m     response_method\u001b[39m=\u001b[39;49mresponse_method,\n\u001b[0;32m     38\u001b[0m     pos_label\u001b[39m=\u001b[39;49mpos_label,\n\u001b[0;32m     39\u001b[0m )\n\u001b[0;32m     41\u001b[0m \u001b[39mreturn\u001b[39;00m y_pred, pos_label, name\n",
            "File \u001b[1;32md:\\Users\\Kingslayer\\Documents\\Lighthouse Labs DS\\.venv\\lib\\site-packages\\sklearn\\utils\\_response.py:149\u001b[0m, in \u001b[0;36m_get_response_values_binary\u001b[1;34m(estimator, X, response_method, pos_label)\u001b[0m\n\u001b[0;32m    115\u001b[0m \u001b[39m\u001b[39m\u001b[39m\"\"\"Compute the response values of a binary classifier.\u001b[39;00m\n\u001b[0;32m    116\u001b[0m \n\u001b[0;32m    117\u001b[0m \u001b[39mParameters\u001b[39;00m\n\u001b[1;32m   (...)\u001b[0m\n\u001b[0;32m    145\u001b[0m \u001b[39m    the metrics.\u001b[39;00m\n\u001b[0;32m    146\u001b[0m \u001b[39m\"\"\"\u001b[39;00m\n\u001b[0;32m    147\u001b[0m classification_error \u001b[39m=\u001b[39m \u001b[39m\"\u001b[39m\u001b[39mExpected \u001b[39m\u001b[39m'\u001b[39m\u001b[39mestimator\u001b[39m\u001b[39m'\u001b[39m\u001b[39m to be a binary classifier.\u001b[39m\u001b[39m\"\u001b[39m\n\u001b[1;32m--> 149\u001b[0m check_is_fitted(estimator)\n\u001b[0;32m    150\u001b[0m \u001b[39mif\u001b[39;00m \u001b[39mnot\u001b[39;00m is_classifier(estimator):\n\u001b[0;32m    151\u001b[0m     \u001b[39mraise\u001b[39;00m \u001b[39mValueError\u001b[39;00m(\n\u001b[0;32m    152\u001b[0m         classification_error \u001b[39m+\u001b[39m \u001b[39mf\u001b[39m\u001b[39m\"\u001b[39m\u001b[39m Got \u001b[39m\u001b[39m{\u001b[39;00mestimator\u001b[39m.\u001b[39m\u001b[39m__class__\u001b[39m\u001b[39m.\u001b[39m\u001b[39m__name__\u001b[39m\u001b[39m}\u001b[39;00m\u001b[39m instead.\u001b[39m\u001b[39m\"\u001b[39m\n\u001b[0;32m    153\u001b[0m     )\n",
            "File \u001b[1;32md:\\Users\\Kingslayer\\Documents\\Lighthouse Labs DS\\.venv\\lib\\site-packages\\sklearn\\utils\\validation.py:1459\u001b[0m, in \u001b[0;36mcheck_is_fitted\u001b[1;34m(estimator, attributes, msg, all_or_any)\u001b[0m\n\u001b[0;32m   1453\u001b[0m     msg \u001b[39m=\u001b[39m (\n\u001b[0;32m   1454\u001b[0m         \u001b[39m\"\u001b[39m\u001b[39mThis \u001b[39m\u001b[39m%(name)s\u001b[39;00m\u001b[39m instance is not fitted yet. Call \u001b[39m\u001b[39m'\u001b[39m\u001b[39mfit\u001b[39m\u001b[39m'\u001b[39m\u001b[39m with \u001b[39m\u001b[39m\"\u001b[39m\n\u001b[0;32m   1455\u001b[0m         \u001b[39m\"\u001b[39m\u001b[39mappropriate arguments before using this estimator.\u001b[39m\u001b[39m\"\u001b[39m\n\u001b[0;32m   1456\u001b[0m     )\n\u001b[0;32m   1458\u001b[0m \u001b[39mif\u001b[39;00m \u001b[39mnot\u001b[39;00m \u001b[39mhasattr\u001b[39m(estimator, \u001b[39m\"\u001b[39m\u001b[39mfit\u001b[39m\u001b[39m\"\u001b[39m):\n\u001b[1;32m-> 1459\u001b[0m     \u001b[39mraise\u001b[39;00m \u001b[39mTypeError\u001b[39;00m(\u001b[39m\"\u001b[39m\u001b[39m%s\u001b[39;00m\u001b[39m is not an estimator instance.\u001b[39m\u001b[39m\"\u001b[39m \u001b[39m%\u001b[39m (estimator))\n\u001b[0;32m   1461\u001b[0m \u001b[39mif\u001b[39;00m \u001b[39mnot\u001b[39;00m _is_fitted(estimator, attributes, all_or_any):\n\u001b[0;32m   1462\u001b[0m     \u001b[39mraise\u001b[39;00m NotFittedError(msg \u001b[39m%\u001b[39m {\u001b[39m\"\u001b[39m\u001b[39mname\u001b[39m\u001b[39m\"\u001b[39m: \u001b[39mtype\u001b[39m(estimator)\u001b[39m.\u001b[39m\u001b[39m__name__\u001b[39m})\n",
            "\u001b[1;31mTypeError\u001b[0m: <fasttext.FastText._FastText object at 0x0000014FE3A3ED60> is not an estimator instance."
          ]
        }
      ],
      "source": [
        "from sklearn.metrics import roc_auc_score, f1_score, accuracy_score, PrecisionRecallDisplay, precision_recall_curve\n",
        "import matplotlib.pyplot as plt\n",
        "\n",
        "# Lets recode the actual targets to 1's and 0's from both the test set and the actual predictions\n",
        "labels = [0 if x.split(' ')[0] == '__label__1' else 1 for x in test]\n",
        "pred_labels = [0 if x == ['__label__1'] else 1 for x in pred[0]]\n",
        "\n",
        "# run the accuracy measure.\n",
        "print(\"AUC Score: \", roc_auc_score(labels, pred_labels))\n",
        "print(\"F1 Score: \", f1_score(labels, pred_labels))\n",
        "print(\"Accuracy Score: \", accuracy_score(labels, pred_labels))\n",
        "\n",
        "# precision, recall, _ = precision_recall_curve(labels, pred_labels)\n",
        "# disp = PrecisionRecallDisplay(precision=precision, recall=recall)\n",
        "# disp.plot()\n",
        "\n",
        "# display = PrecisionRecallDisplay.from_estimator(\n",
        "#     model, new, labels, name=\"FastText\", plot_chance_level=True\n",
        "# )\n",
        "# _ = display.ax_.set_title(\"2-class Precision-Recall curve\")"
      ]
    },
    {
      "cell_type": "code",
      "execution_count": 11,
      "metadata": {
        "id": "QCVxNvAsAD73"
      },
      "outputs": [],
      "source": [
        "model.save_model(\"./model.bin\")"
      ]
    }
  ],
  "metadata": {
    "colab": {
      "provenance": []
    },
    "kernelspec": {
      "display_name": "Python 3",
      "name": "python3"
    },
    "language_info": {
      "codemirror_mode": {
        "name": "ipython",
        "version": 3
      },
      "file_extension": ".py",
      "mimetype": "text/x-python",
      "name": "python",
      "nbconvert_exporter": "python",
      "pygments_lexer": "ipython3",
      "version": "3.9.5"
    }
  },
  "nbformat": 4,
  "nbformat_minor": 0
}
